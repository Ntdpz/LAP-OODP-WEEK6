{
  "nbformat": 4,
  "nbformat_minor": 0,
  "metadata": {
    "colab": {
      "provenance": [],
      "authorship_tag": "ABX9TyP8z5s47egyQpICv3HHnruw",
      "include_colab_link": true
    },
    "kernelspec": {
      "name": "python3",
      "display_name": "Python 3"
    },
    "language_info": {
      "name": "python"
    }
  },
  "cells": [
    {
      "cell_type": "markdown",
      "metadata": {
        "id": "view-in-github",
        "colab_type": "text"
      },
      "source": [
        "<a href=\"https://colab.research.google.com/github/Ntdpz/LAP-OODP-WEEK6/blob/main/Lab01_NaphatChaiyasang_6431503016.ipynb\" target=\"_parent\"><img src=\"https://colab.research.google.com/assets/colab-badge.svg\" alt=\"Open In Colab\"/></a>"
      ]
    },
    {
      "cell_type": "markdown",
      "source": [
        "Question 1"
      ],
      "metadata": {
        "id": "57qBe-rmsvjK"
      }
    },
    {
      "cell_type": "code",
      "execution_count": 16,
      "metadata": {
        "colab": {
          "base_uri": "https://localhost:8080/"
        },
        "id": "_5RXNzjTrX0I",
        "outputId": "a2032d3b-bf97-4072-d4a6-e6221692ac41"
      },
      "outputs": [
        {
          "output_type": "stream",
          "name": "stdout",
          "text": [
            "Enter amount of money to withdraw: 15000\n",
            "You want to withdraw 15000 Baht\n"
          ]
        }
      ],
      "source": [
        "#Declare variable\n",
        "money = 0;\n",
        "#using Input function to receive the value from keyboard\n",
        "money = int(input(\"Enter amount of money to withdraw: \"))\n",
        "#check the condition\n",
        "if(money > 0):\n",
        "  print(\"You want to withdraw {} Baht\".format(money))\n",
        "else:\n",
        "  print(\"Money must be more than 0.\")"
      ]
    },
    {
      "cell_type": "code",
      "source": [
        "#Declare variable\n",
        "money = 0;\n",
        "#using Input function to receive the value from keyboard\n",
        "money = int(input(\"Enter amount of money to withdraw: \"))\n",
        "#check the condition\n",
        "if(money > 0):\n",
        "  print(\"You want to withdraw {} Baht\".format(money))\n",
        "else:\n",
        "  print(\"Money must be more than 0.\")"
      ],
      "metadata": {
        "colab": {
          "base_uri": "https://localhost:8080/"
        },
        "id": "k8lJLQSGstN_",
        "outputId": "4095d4e1-47af-4061-adf2-8ac4856e642c"
      },
      "execution_count": 17,
      "outputs": [
        {
          "output_type": "stream",
          "name": "stdout",
          "text": [
            "Enter amount of money to withdraw: 0\n",
            "Money must be more than 0.\n"
          ]
        }
      ]
    },
    {
      "cell_type": "markdown",
      "source": [
        "Question 2"
      ],
      "metadata": {
        "id": "FLSB_Q-xs-5D"
      }
    },
    {
      "cell_type": "code",
      "source": [
        "#Declare variable \n",
        "money = 0;  \n",
        "\n",
        "#using Input function to receive the value from keyboard \n",
        "money = int(input(\"Enter amount of money to withdraw: \")) #check the condition\n",
        "B100 = int(money / 100);\n",
        "totol = money%100;\n",
        "if(money > 30000):\n",
        "  print(\"Over the limit to excess 30000 Bath\")\n",
        "else:\n",
        "  if (money > 0):\n",
        "    if(totol == 0):\n",
        "      print(\"You want to withdraw {} of hundred\".format(B100))\n",
        "    else:\n",
        "      print(\"This machine only returns a hudred banknote\")\n",
        "  else: \n",
        "      print(\"Money must be more than 0.\")\n",
        "  \n"
      ],
      "metadata": {
        "colab": {
          "base_uri": "https://localhost:8080/"
        },
        "id": "_V8wuJj5s9h9",
        "outputId": "9b1995a3-60ff-4791-89b5-89c2b664e068"
      },
      "execution_count": 36,
      "outputs": [
        {
          "output_type": "stream",
          "name": "stdout",
          "text": [
            "Enter amount of money to withdraw: 30000\n",
            "You want to withdraw 300 of hundred\n"
          ]
        }
      ]
    },
    {
      "cell_type": "markdown",
      "source": [
        "Question 3"
      ],
      "metadata": {
        "id": "XKUDrPlpwUcZ"
      }
    },
    {
      "cell_type": "code",
      "source": [
        "thislist =['Monday', 'Tuesday', 'Wednesday', 'Thursday', 'Friday'] \n",
        "\n",
        "\n",
        "thislist.append(\"Saturday\")\n",
        "thislist.append(\"Sunday\")\n",
        "print(thislist)\n",
        "\n",
        "\n",
        "\n",
        "del thislist[5]\n",
        "del thislist[4]\n",
        "del thislist[0]\n",
        "print(thislist)\n",
        "\n"
      ],
      "metadata": {
        "colab": {
          "base_uri": "https://localhost:8080/"
        },
        "id": "iur1jHPftXeq",
        "outputId": "8b288a10-8d3c-43d7-effc-9f32de615ed9"
      },
      "execution_count": 47,
      "outputs": [
        {
          "output_type": "stream",
          "name": "stdout",
          "text": [
            "['Monday', 'Tuesday', 'Wednesday', 'Thursday', 'Friday', 'Saturday', 'Sunday']\n",
            "['Tuesday', 'Wednesday', 'Thursday', 'Sunday']\n"
          ]
        }
      ]
    },
    {
      "cell_type": "markdown",
      "source": [
        "Question 4"
      ],
      "metadata": {
        "id": "4WDcn-VzzLyi"
      }
    },
    {
      "cell_type": "code",
      "source": [
        "thisdict = {\n",
        "  \"mon\": \"Monday\",\n",
        "  \"tue\": \"Tuesday\",\n",
        "  \"wed\": \"Wednesday\",\n",
        "  \"thu\": \"Thursday\",\n",
        "  \"fri\": \"Friday\",\n",
        "  \"sat\": \"Saturday\",\n",
        "  \"sun\": \"Sunday\",\n",
        "}\n",
        "\n",
        "day = str(input(\"please input the day using a three-letter keybord , such as 'mon': \"))\n",
        "print(thisdict[day])"
      ],
      "metadata": {
        "colab": {
          "base_uri": "https://localhost:8080/"
        },
        "id": "Edul_DqezMCf",
        "outputId": "b041449d-a54a-4d06-92cf-d7249895b9fd"
      },
      "execution_count": 51,
      "outputs": [
        {
          "output_type": "stream",
          "name": "stdout",
          "text": [
            "please input the day using a three-letter keybord , such as 'mon': mon\n",
            "Monday\n"
          ]
        }
      ]
    },
    {
      "cell_type": "markdown",
      "source": [
        "Question 5"
      ],
      "metadata": {
        "id": "0mX_zG8s0r8u"
      }
    },
    {
      "cell_type": "code",
      "source": [
        "print (\"===== Food Shop Menu =====\")\n",
        "\n",
        "print (\" 1.  Noodles (23 baht)\" )\n",
        "Noodles = int(23)\n",
        "print (\" 2.  Burgers (46 baht)\")\n",
        "Burgers = int(46)\n",
        "\n",
        "menu = int(input(\"Plese select menu 1 or 2 : \"))\n",
        "money = int(input(\"How much money do they have? ... \"))\n",
        "\n",
        "if(menu == 1):\n",
        "  if(money >=23):\n",
        "    print(\"You select Noodles. this is 23 Bath.\")\n",
        "    print(\"You pay {} Bath\".format(money))\n",
        "\n",
        "    chage = int(money-23)\n",
        "    print(\"you get chage for {} Bath\".format(chage))\n",
        "    if (int(chage/100) !=0):\n",
        "      print(\"You get {} hundred banknotes\".format(int(chage/100)))\n",
        "    if (int(chage%100/50) !=0):\n",
        "     print(\"You get {} Fifty-baht banknote \".format(int(chage%100/50)))\n",
        "    if (int(chage%100%50/20) !=0):\n",
        "      print(\"You get {} Twenty-baht banknotee \".format(int(chage%100%50/20)))\n",
        "    if(int(chage%100%50%20/10) !=0):\n",
        "      print(\"You get {} ten-baht coin \".format(int(chage%100%50%20/10)))\n",
        "    if(int(chage%100%50%20%10/1) !=0):\n",
        "     print(\"You get {} one-baht coin \".format(int(chage%100%50%20%10/1)))\n",
        "  else:\n",
        "    print(\"You do not have enough money.\")\n",
        "\n",
        "\n",
        "elif(menu == 2):\n",
        "  if(money >=46):\n",
        "    print(\"You select Burgers . this is 46 Bath.\")\n",
        "    print(\"You pay {} Bath\".format(money))\n",
        "\n",
        "    chage = int(money-46)\n",
        "    print(\"you get chage for {} Bath\".format(chage))\n",
        "    if (int(chage/100) !=0):\n",
        "      print(\"You get {} hundred banknotes\".format(int(chage/100)))\n",
        "    if (int(chage%100/50) !=0):\n",
        "     print(\"You get {} Fifty-baht banknote \".format(int(chage%100/50)))\n",
        "    if (int(chage%100%50/20) !=0):\n",
        "      print(\"You get {} Twenty-baht banknotee \".format(int(chage%100%50/20)))\n",
        "    if(int(chage%100%50%20/10) !=0):\n",
        "      print(\"You get {} ten-baht coin \".format(int(chage%100%50%20/10)))\n",
        "    if(int(chage%100%50%20%10/1) !=0):\n",
        "     print(\"You get {} one-baht coin \".format(int(chage%100%50%20%10/1)))\n",
        "  else:\n",
        "    print(\"You do not have enough money.\")\n",
        "\n",
        "\n",
        "else:\n",
        "  print(\"Select menu 1 or 2 \")"
      ],
      "metadata": {
        "colab": {
          "base_uri": "https://localhost:8080/"
        },
        "id": "D8XiBw9p0ugT",
        "outputId": "8f54e85d-ea37-417a-d634-0e1f1bd909d7"
      },
      "execution_count": 145,
      "outputs": [
        {
          "output_type": "stream",
          "name": "stdout",
          "text": [
            "===== Food Shop Menu =====\n",
            " 1.  Noodles (23 baht)\n",
            " 2.  Burgers (46 baht)\n",
            "Plese select menu 1 or 2 : 1\n",
            "How much money do they have? ... 4\n",
            "You do not have enough money.\n"
          ]
        }
      ]
    }
  ]
}